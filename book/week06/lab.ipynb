{
 "cells": [
  {
   "attachments": {},
   "cell_type": "markdown",
   "metadata": {
    "id": "cjgz1WTcPWee"
   },
   "source": [
    "# 추천 시스템 실습\n",
    "\n",
    "## 데이터셋 준비\n",
    "\n",
    "### Surprise 라이브러리 소개\n",
    "\n",
    "Surprise는 다양한 추천 알고리즘과 유사도 지표를 제공하는 Python SciKit입니다. 이를 통해 추천 시스템을 쉽게 구축하고 분석할 수 있습니다. 주요 기능은 데이터 로딩, 알고리즘 적용, 결과 평가 등을 포함합니다.\n"
   ]
  },
  {
   "cell_type": "code",
   "execution_count": 11,
   "metadata": {},
   "outputs": [],
   "source": [
    "%%capture\n",
    "\n",
    "# 필요한 패키지 설치 \n",
    "%pip install aibasics"
   ]
  },
  {
   "cell_type": "markdown",
   "metadata": {},
   "source": [
    "> **Note**: 구글 Colab에서는 위의 패키지 설치 명령어를 실행한 후에 세션을 재시작해야 합니다. 메뉴에서 **런타임** > **런타임 다시 시작**을 선택하세요.\n",
    "\n",
    "### 데이터셋 로딩\n",
    "\n",
    "Surprise 라이브러리를 사용하여 데이터셋을 로딩하는 방법에는 여러 가지가 있습니다. 파일에서 로딩, Pandas dataframe에서 로딩, 또는 Surprise가 제공하는 내장 데이터셋을 사용하는 방법 등이 있습니다.\n",
    "\n",
    "#### 내장 데이터셋 로딩\n"
   ]
  },
  {
   "cell_type": "code",
   "execution_count": 1,
   "metadata": {},
   "outputs": [
    {
     "name": "stdout",
     "output_type": "stream",
     "text": [
      "Dataset ml-100k could not be found. Do you want to download it? [Y/n] Trying to download dataset from https://files.grouplens.org/datasets/movielens/ml-100k.zip...\n",
      "Done! Dataset ml-100k has been saved to /home/yjlee/.surprise_data/ml-100k\n"
     ]
    }
   ],
   "source": [
    "from surprise import Dataset\n",
    "\n",
    "# 내장 데이터셋 로딩\n",
    "data = Dataset.load_builtin(\"ml-100k\")"
   ]
  },
  {
   "cell_type": "markdown",
   "metadata": {},
   "source": [
    "#### 파일에서 데이터셋 로딩\n",
    "\n",
    "```python\n",
    "from surprise import Dataset\n",
    "from surprise import Reader\n",
    "\n",
    "# Reader 객체 생성\n",
    "reader = Reader(line_format='user item rating', sep='\\t', rating_scale=(1, 5))\n",
    "\n",
    "# 파일에서 데이터셋 로딩\n",
    "data = Dataset.load_from_file('파일 경로', reader=reader)\n",
    "```\n",
    "\n",
    "#### Pandas dataframe에서 데이터셋 로딩\n"
   ]
  },
  {
   "cell_type": "code",
   "execution_count": 2,
   "metadata": {},
   "outputs": [],
   "source": [
    "import pandas as pd\n",
    "from surprise import Dataset\n",
    "from surprise import Reader\n",
    "\n",
    "# 데이터 딕셔너리 생성\n",
    "ratings_dict = {\n",
    "    \"item\": [1, 2, 3, 1, 2, 3, 2],\n",
    "    \"user\": [1, 1, 1, 2, 2, 2, 3],\n",
    "    \"rating\": [1, 2, 3, 1, 2, 3, 4],\n",
    "}\n",
    "\n",
    "# Pandas dataframe으로 변환\n",
    "df = pd.DataFrame(ratings_dict)\n",
    "\n",
    "# Reader 객체 생성\n",
    "reader = Reader(rating_scale=(1, 5))\n",
    "\n",
    "# 데이터셋 로딩\n",
    "data = Dataset.load_from_df(df[[\"user\", \"item\", \"rating\"]], reader)"
   ]
  },
  {
   "cell_type": "markdown",
   "metadata": {},
   "source": [
    "### 데이터 전처리\n",
    "\n",
    "데이터 전처리 과정에서는 결측치 처리, 데이터 정규화, 범주형 데이터의 수치화 등 데이터를 분석에 적합한 형태로 가공합니다. Surprise 라이브러리는 데이터 로딩 시 다양한 옵션을 제공하여 이러한 전처리 과정을 용이하게 합니다.\n",
    "\n",
    "### 데이터셋 준비 중요성\n",
    "\n",
    "추천 시스템 구축에서 데이터셋 준비는 매우 중요한 단계입니다. 데이터의 품질과 정제 정도는 추천 시스템의 성능에 직접적인 영향을 미치기 때문에, 데이터 로딩과 전처리 과정에 주의를 기울여야 합니다.\n",
    "\n",
    "이 실습에서는 Surprise 라이브러리를 사용하여 데이터셋을 준비하는 방법을 배웠습니다. 이후 단계에서는 이 데이터를 사용하여 실제 추천 모델을 구축하고 평가하는 과정을 진행할 예정입니다.\n"
   ]
  },
  {
   "cell_type": "code",
   "execution_count": null,
   "metadata": {},
   "outputs": [],
   "source": []
  }
 ],
 "metadata": {
  "colab": {
   "name": "aibasics-lab.ipynb",
   "provenance": []
  },
  "interpreter": {
   "hash": "f869af7787e6a1c49e09e367fc6e1b81d93d1c6583b43249c80edc047bd13cb2"
  },
  "kernelspec": {
   "display_name": "Python 3",
   "language": "python",
   "name": "python3"
  },
  "language_info": {
   "codemirror_mode": {
    "name": "ipython",
    "version": 3
   },
   "file_extension": ".py",
   "mimetype": "text/x-python",
   "name": "python",
   "nbconvert_exporter": "python",
   "pygments_lexer": "ipython3",
   "version": "3.10.13"
  },
  "widgets": {
   "application/vnd.jupyter.widget-state+json": {
    "state": {},
    "version_major": 2,
    "version_minor": 0
   }
  }
 },
 "nbformat": 4,
 "nbformat_minor": 1
}
